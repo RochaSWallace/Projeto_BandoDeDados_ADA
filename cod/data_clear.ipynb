{
 "cells": [
  {
   "cell_type": "code",
   "execution_count": 217,
   "metadata": {},
   "outputs": [],
   "source": [
    "import psycopg2\n",
    "\n",
    "try:\n",
    "    conn = psycopg2.connect(\"host=localhost dbname=Olympiadas_atletas user=postgres password=843324\")\n",
    "except psycopg2.OperationalError:\n",
    "    print(\"Connection failed\")\n",
    "\n",
    "\n",
    "cur = conn.cursor()\n",
    "\n",
    "# Execute a query\n",
    "cur.execute('''\n",
    "CREATE TABLE IF NOT EXISTS athletes (\n",
    "    id SERIAL PRIMARY KEY,\n",
    "    id_athletes INT,\n",
    "    name VARCHAR(120),\n",
    "    sex VARCHAR(6),\n",
    "    age INT,\n",
    "    HEIGHT NUMERIC,\n",
    "    WEIGHT NUMERIC\n",
    ");\n",
    "    \n",
    "CREATE TABLE IF NOT EXISTS team (\n",
    "    id SERIAL PRIMARY KEY,\n",
    "    team_name VARCHAR(50),\n",
    "    name_athletes VARCHAR(120),\n",
    "    athletes_id INT,\n",
    "    CONSTRAINT athletes_fk FOREIGN KEY(athletes_id) REFERENCES athletes(id)\n",
    ");\n",
    "            \n",
    "CREATE TABLE IF NOT EXISTS modalities (\n",
    "    id SERIAL PRIMARY KEY,\n",
    "    games VARCHAR(40),\n",
    "    NOC VARCHAR(5),\n",
    "    year INT,\n",
    "    season VARCHAR(20),\n",
    "    event VARCHAR(100),\n",
    "    athletes_id INT,\n",
    "    CONSTRAINT athletes_fk FOREIGN KEY(athletes_id) REFERENCES athletes(id)\n",
    ");\n",
    "            \n",
    "CREATE TABLE IF NOT EXISTS sports (\n",
    "    id SERIAL PRIMARY KEY,\n",
    "    sport VARCHAR(30),\n",
    "    NOC VARCHAR(5),\n",
    "    modalities_id INT,\n",
    "    CONSTRAINT modalities_fk FOREIGN KEY(modalities_id) REFERENCES modalities(id)\n",
    "    \n",
    ");\n",
    "            \n",
    "CREATE TABLE IF NOT EXISTS medal (\n",
    "    id SERIAL PRIMARY KEY,\n",
    "    medal VARCHAR(30),\n",
    "    NOC VARCHAR(5),\n",
    "    athletes_id INT,\n",
    "    modalities_id INT,\n",
    "    CONSTRAINT athletes_fk FOREIGN KEY(athletes_id) REFERENCES athletes(id),\n",
    "    CONSTRAINT modalities_fk FOREIGN KEY(modalities_id) REFERENCES modalities(id)\n",
    "    \n",
    ");\n",
    "            \n",
    "CREATE TABLE IF NOT EXISTS region (\n",
    "    id SERIAL PRIMARY KEY,\n",
    "    noc VARCHAR(5),\n",
    "    region VARCHAR(50),\n",
    "    notes VARCHAR(40),\n",
    "    CONSTRAINT unico_noc_region UNIQUE (noc, region)\n",
    "    \n",
    ");\n",
    "''')\n",
    "conn.commit()"
   ]
  },
  {
   "cell_type": "code",
   "execution_count": 209,
   "metadata": {},
   "outputs": [],
   "source": [
    "import csv\n",
    "\n",
    "athletes = []\n",
    "team = []\n",
    "modalities = []\n",
    "sports = []\n",
    "medal = []\n",
    "with open(file=\"athlete_events.csv\", mode=\"r\", encoding=\"utf-8\") as arquivo:\n",
    "    data = csv.reader(arquivo, delimiter=\",\")\n",
    "    next(data)\n",
    "    data = set(map(tuple, list(data)))\n",
    "    data = list(map(list, data))\n",
    "    for index, row in enumerate(data):\n",
    "        row = list(map(lambda x: None if x==\"NA\" else x, row))\n",
    "        athletes.append([index, row[0], row[1], row[2], row[3], row[4], row[5]])\n",
    "        team.append([row[6], row[1], index])\n",
    "        modalities.append([index, row[8], row[7], row[9], row[10], row[13], index])\n",
    "        sports.append([row[12], row[7], index])\n",
    "        medal.append([row[14], row[7], index, index])"
   ]
  },
  {
   "cell_type": "code",
   "execution_count": 178,
   "metadata": {},
   "outputs": [],
   "source": [
    "athletes = set(map(tuple, athletes))\n",
    "athletes = list(map(list, athletes))\n",
    "athletes = list(map(lambda x: [x[0], x[1].replace(\"\\'\", \"\\\"\"), x[2], x[3], x[4], x[5], x[6]], athletes))"
   ]
  },
  {
   "cell_type": "code",
   "execution_count": 203,
   "metadata": {},
   "outputs": [],
   "source": [
    "for i in athletes:\n",
    "    id = i[0]\n",
    "    id_athletes = i[1]\n",
    "    name = i[2]\n",
    "    sex = i[3]\n",
    "    age = i[4]\n",
    "    height = i[5]\n",
    "    weight = i[6]\n",
    "    cur.execute(f'''INSERT INTO athletes (id, id_athletes, name, sex, age, HEIGHT, WEIGHT) VALUES \n",
    "                (%s, %s, %s, %s, %s, %s, %s) ''', (id, id_athletes, name, sex, age, height, weight))\n",
    "    conn.commit()"
   ]
  },
  {
   "cell_type": "code",
   "execution_count": 204,
   "metadata": {},
   "outputs": [],
   "source": [
    "for i in team:\n",
    "    team_name = i[0]\n",
    "    name_athletes = i[1]\n",
    "    id_athletes = i[2]\n",
    "    cur.execute(f'INSERT INTO team (team_name, name_athletes, athletes_id) VALUES (%s, %s, %s) ', (team_name, name_athletes, id_athletes))\n",
    "    conn.commit()\n"
   ]
  },
  {
   "cell_type": "code",
   "execution_count": 205,
   "metadata": {},
   "outputs": [],
   "source": [
    "for i in modalities:\n",
    "    id = i[0]\n",
    "    games = i[1]\n",
    "    noc = i[2]\n",
    "    year = i[3]\n",
    "    season = i[4]\n",
    "    event = i[5]\n",
    "    id_athletes = i[6]\n",
    "    cur.execute(f'''INSERT INTO modalities (id, games, noc, year, season, event, athletes_id) VALUES \n",
    "                (%s, %s, %s, %s, %s, %s, %s) ''', (id, games, noc, year, season, event, id_athletes))\n",
    "    conn.commit()\n"
   ]
  },
  {
   "cell_type": "code",
   "execution_count": 206,
   "metadata": {},
   "outputs": [],
   "source": [
    "for i in sports:\n",
    "    sport = i[0]\n",
    "    noc = i[1]\n",
    "    id_athletes = i[2]\n",
    "    cur.execute(f'''INSERT INTO sports (sport, noc, modalities_id) VALUES \n",
    "                (%s, %s, %s) ''', (sport, noc, id_athletes))\n",
    "    conn.commit()"
   ]
  },
  {
   "cell_type": "code",
   "execution_count": 211,
   "metadata": {},
   "outputs": [],
   "source": [
    "for i in medal:\n",
    "    medal = i[0]\n",
    "    noc = i[1]\n",
    "    athletes_id = i[2]\n",
    "    modalities_id = i[3]\n",
    "    cur.execute(f'''INSERT INTO medal (medal, noc, athletes_id, modalities_id) VALUES \n",
    "                (%s, %s, %s, %s) ''', (medal, noc, athletes_id, modalities_id))\n",
    "    conn.commit()"
   ]
  },
  {
   "cell_type": "code",
   "execution_count": 218,
   "metadata": {},
   "outputs": [],
   "source": [
    "with open(file='noc_regions.csv', mode='r', encoding='utf-8') as file:\n",
    "    data_region = csv.reader(file)\n",
    "    next(data_region)\n",
    "    for row in data_region:\n",
    "        cur.execute(\"\"\"\n",
    "            INSERT INTO region (noc, region, notes)\n",
    "            VALUES (%s, %s, %s)\n",
    "            ON CONFLICT ON CONSTRAINT unico_noc_region DO NOTHING;\n",
    "        \"\"\", (row[0], row[1], row[2]))\n",
    "        conn.commit()"
   ]
  }
 ],
 "metadata": {
  "kernelspec": {
   "display_name": "Python 3",
   "language": "python",
   "name": "python3"
  },
  "language_info": {
   "codemirror_mode": {
    "name": "ipython",
    "version": 3
   },
   "file_extension": ".py",
   "mimetype": "text/x-python",
   "name": "python",
   "nbconvert_exporter": "python",
   "pygments_lexer": "ipython3",
   "version": "3.11.4"
  }
 },
 "nbformat": 4,
 "nbformat_minor": 2
}
